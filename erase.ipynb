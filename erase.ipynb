{
 "cells": [
  {
   "cell_type": "code",
   "execution_count": 5,
   "metadata": {},
   "outputs": [],
   "source": [
    "import os \n",
    "import shutil"
   ]
  },
  {
   "cell_type": "code",
   "execution_count": 7,
   "metadata": {},
   "outputs": [],
   "source": [
    "folder = \"/home/ariana/RESEARCH/Datasets/metaverse\"\n",
    "destination = '/home/ariana/RESEARCH/Test'\n",
    "videos = os.listdir(folder) "
   ]
  },
  {
   "cell_type": "code",
   "execution_count": 10,
   "metadata": {},
   "outputs": [],
   "source": [
    "subfolders = ['JPEGImages', 'Annotations']"
   ]
  },
  {
   "cell_type": "code",
   "execution_count": 12,
   "metadata": {},
   "outputs": [],
   "source": [
    "for video in videos: \n",
    "    for subfolder in subfolders: \n",
    "        video_path = os.path.join(folder, video, subfolder)\n",
    "\n",
    "        # Copy the folder to the destination path and rename it\n",
    "        shutil.copytree(video_path,  os.path.join(destination, subfolder) + '/' + video)\n"
   ]
  },
  {
   "cell_type": "code",
   "execution_count": null,
   "metadata": {},
   "outputs": [],
   "source": []
  }
 ],
 "metadata": {
  "kernelspec": {
   "display_name": "XMem",
   "language": "python",
   "name": "python3"
  },
  "language_info": {
   "codemirror_mode": {
    "name": "ipython",
    "version": 3
   },
   "file_extension": ".py",
   "mimetype": "text/x-python",
   "name": "python",
   "nbconvert_exporter": "python",
   "pygments_lexer": "ipython3",
   "version": "3.9.13"
  },
  "orig_nbformat": 4,
  "vscode": {
   "interpreter": {
    "hash": "513c7f534d3f6b8a35bd65ab3d6e8e0d702ff8531d43015ba5e1f71461a679b3"
   }
  }
 },
 "nbformat": 4,
 "nbformat_minor": 2
}
